{
 "cells": [
  {
   "cell_type": "code",
   "execution_count": 1,
   "metadata": {},
   "outputs": [
    {
     "data": {
      "text/html": [
       "<div>\n",
       "<style scoped>\n",
       "    .dataframe tbody tr th:only-of-type {\n",
       "        vertical-align: middle;\n",
       "    }\n",
       "\n",
       "    .dataframe tbody tr th {\n",
       "        vertical-align: top;\n",
       "    }\n",
       "\n",
       "    .dataframe thead th {\n",
       "        text-align: right;\n",
       "    }\n",
       "</style>\n",
       "<table border=\"1\" class=\"dataframe\">\n",
       "  <thead>\n",
       "    <tr style=\"text-align: right;\">\n",
       "      <th></th>\n",
       "      <th>Year</th>\n",
       "      <th>Round</th>\n",
       "      <th>Region Number</th>\n",
       "      <th>Region Name</th>\n",
       "      <th>Seed</th>\n",
       "      <th>Score</th>\n",
       "      <th>Team</th>\n",
       "      <th>Team.1</th>\n",
       "      <th>Score.1</th>\n",
       "      <th>Seed.1</th>\n",
       "    </tr>\n",
       "  </thead>\n",
       "  <tbody>\n",
       "    <tr>\n",
       "      <th>0</th>\n",
       "      <td>1985</td>\n",
       "      <td>1</td>\n",
       "      <td>1</td>\n",
       "      <td>West</td>\n",
       "      <td>1</td>\n",
       "      <td>83</td>\n",
       "      <td>St Johns</td>\n",
       "      <td>Southern</td>\n",
       "      <td>59</td>\n",
       "      <td>16</td>\n",
       "    </tr>\n",
       "    <tr>\n",
       "      <th>1</th>\n",
       "      <td>1985</td>\n",
       "      <td>1</td>\n",
       "      <td>1</td>\n",
       "      <td>West</td>\n",
       "      <td>2</td>\n",
       "      <td>81</td>\n",
       "      <td>VCU</td>\n",
       "      <td>Marshall</td>\n",
       "      <td>65</td>\n",
       "      <td>15</td>\n",
       "    </tr>\n",
       "    <tr>\n",
       "      <th>2</th>\n",
       "      <td>1985</td>\n",
       "      <td>1</td>\n",
       "      <td>1</td>\n",
       "      <td>West</td>\n",
       "      <td>3</td>\n",
       "      <td>65</td>\n",
       "      <td>NC State</td>\n",
       "      <td>Nevada</td>\n",
       "      <td>56</td>\n",
       "      <td>14</td>\n",
       "    </tr>\n",
       "    <tr>\n",
       "      <th>3</th>\n",
       "      <td>1985</td>\n",
       "      <td>1</td>\n",
       "      <td>1</td>\n",
       "      <td>West</td>\n",
       "      <td>4</td>\n",
       "      <td>85</td>\n",
       "      <td>UNLV</td>\n",
       "      <td>San Diego St</td>\n",
       "      <td>80</td>\n",
       "      <td>13</td>\n",
       "    </tr>\n",
       "    <tr>\n",
       "      <th>4</th>\n",
       "      <td>1985</td>\n",
       "      <td>1</td>\n",
       "      <td>1</td>\n",
       "      <td>West</td>\n",
       "      <td>5</td>\n",
       "      <td>58</td>\n",
       "      <td>Washington</td>\n",
       "      <td>Kentucky</td>\n",
       "      <td>65</td>\n",
       "      <td>12</td>\n",
       "    </tr>\n",
       "    <tr>\n",
       "      <th>...</th>\n",
       "      <td>...</td>\n",
       "      <td>...</td>\n",
       "      <td>...</td>\n",
       "      <td>...</td>\n",
       "      <td>...</td>\n",
       "      <td>...</td>\n",
       "      <td>...</td>\n",
       "      <td>...</td>\n",
       "      <td>...</td>\n",
       "      <td>...</td>\n",
       "    </tr>\n",
       "    <tr>\n",
       "      <th>2200</th>\n",
       "      <td>2019</td>\n",
       "      <td>4</td>\n",
       "      <td>3</td>\n",
       "      <td>East</td>\n",
       "      <td>1</td>\n",
       "      <td>67</td>\n",
       "      <td>Duke</td>\n",
       "      <td>Michigan St</td>\n",
       "      <td>68</td>\n",
       "      <td>2</td>\n",
       "    </tr>\n",
       "    <tr>\n",
       "      <th>2201</th>\n",
       "      <td>2019</td>\n",
       "      <td>4</td>\n",
       "      <td>4</td>\n",
       "      <td>Midwest</td>\n",
       "      <td>2</td>\n",
       "      <td>71</td>\n",
       "      <td>Kentucky</td>\n",
       "      <td>Auburn</td>\n",
       "      <td>77</td>\n",
       "      <td>5</td>\n",
       "    </tr>\n",
       "    <tr>\n",
       "      <th>2202</th>\n",
       "      <td>2019</td>\n",
       "      <td>5</td>\n",
       "      <td>1</td>\n",
       "      <td>Final Four</td>\n",
       "      <td>1</td>\n",
       "      <td>63</td>\n",
       "      <td>Virginia</td>\n",
       "      <td>Auburn</td>\n",
       "      <td>62</td>\n",
       "      <td>5</td>\n",
       "    </tr>\n",
       "    <tr>\n",
       "      <th>2203</th>\n",
       "      <td>2019</td>\n",
       "      <td>5</td>\n",
       "      <td>2</td>\n",
       "      <td>Final Four</td>\n",
       "      <td>2</td>\n",
       "      <td>51</td>\n",
       "      <td>Michigan St</td>\n",
       "      <td>Texas Tech</td>\n",
       "      <td>61</td>\n",
       "      <td>3</td>\n",
       "    </tr>\n",
       "    <tr>\n",
       "      <th>2204</th>\n",
       "      <td>2019</td>\n",
       "      <td>6</td>\n",
       "      <td>1</td>\n",
       "      <td>Championship</td>\n",
       "      <td>1</td>\n",
       "      <td>85</td>\n",
       "      <td>Virginia</td>\n",
       "      <td>Texas Tech</td>\n",
       "      <td>77</td>\n",
       "      <td>3</td>\n",
       "    </tr>\n",
       "  </tbody>\n",
       "</table>\n",
       "<p>2205 rows × 10 columns</p>\n",
       "</div>"
      ],
      "text/plain": [
       "      Year  Round  Region Number   Region Name  Seed  Score         Team  \\\n",
       "0     1985      1              1          West     1     83     St Johns   \n",
       "1     1985      1              1          West     2     81          VCU   \n",
       "2     1985      1              1          West     3     65     NC State   \n",
       "3     1985      1              1          West     4     85         UNLV   \n",
       "4     1985      1              1          West     5     58   Washington   \n",
       "...    ...    ...            ...           ...   ...    ...          ...   \n",
       "2200  2019      4              3          East     1     67         Duke   \n",
       "2201  2019      4              4       Midwest     2     71     Kentucky   \n",
       "2202  2019      5              1    Final Four     1     63     Virginia   \n",
       "2203  2019      5              2    Final Four     2     51  Michigan St   \n",
       "2204  2019      6              1  Championship     1     85     Virginia   \n",
       "\n",
       "            Team.1  Score.1  Seed.1  \n",
       "0         Southern       59      16  \n",
       "1         Marshall       65      15  \n",
       "2           Nevada       56      14  \n",
       "3     San Diego St       80      13  \n",
       "4         Kentucky       65      12  \n",
       "...            ...      ...     ...  \n",
       "2200   Michigan St       68       2  \n",
       "2201        Auburn       77       5  \n",
       "2202        Auburn       62       5  \n",
       "2203    Texas Tech       61       3  \n",
       "2204    Texas Tech       77       3  \n",
       "\n",
       "[2205 rows x 10 columns]"
      ]
     },
     "execution_count": 1,
     "metadata": {},
     "output_type": "execute_result"
    }
   ],
   "source": [
    "import numpy as np\n",
    "import pandas as pd\n",
    "import matplotlib.pyplot as plt\n",
    "ncaa =pd.read_csv('ncaa.csv')\n",
    "ncaa"
   ]
  },
  {
   "cell_type": "code",
   "execution_count": 3,
   "metadata": {},
   "outputs": [],
   "source": [
    "ncaa['Score Difference']=ncaa['Score']-ncaa['Score.1']\n",
    "ncaa.loc[ncaa['Score Difference'] >0, 'Winner']=ncaa['Team']\n",
    "ncaa.loc[ncaa['Score Difference'] <0, 'Winner']=ncaa['Team.1']\n",
    "ncaa.loc[ncaa['Score Difference'] >0, 'Winner Seed']=ncaa['Seed']\n",
    "ncaa.loc[ncaa['Score Difference'] <0, 'Winner Seed']=ncaa['Seed.1']"
   ]
  },
  {
   "cell_type": "code",
   "execution_count": 4,
   "metadata": {},
   "outputs": [],
   "source": [
    "ncaa.to_csv('ncaa1.csv')"
   ]
  },
  {
   "cell_type": "code",
   "execution_count": null,
   "metadata": {},
   "outputs": [],
   "source": [
    "q6=ncaa.loc[ncaa['Round']==1].copy()\n",
    "Teams=pd.concat([q6['Team'],q6['Team.1']])\n",
    "Seeds=pd.concat([q6['Seed'],q6['Seed.1']])\n",
    "df2 = pd.DataFrame({'Team':Teams, 'Seeds':Seeds})\n",
    "df2"
   ]
  },
  {
   "cell_type": "markdown",
   "metadata": {},
   "source": [
    "Find all schools that have won the championship, and make a table that includes the school and number of championships, sorted from most to least."
   ]
  },
  {
   "cell_type": "code",
   "execution_count": 7,
   "metadata": {},
   "outputs": [
    {
     "data": {
      "text/plain": [
       "Duke              5\n",
       "North Carolina    4\n",
       "Connecticut       4\n",
       "Villanova         3\n",
       "Kentucky          3\n",
       "Louisville        2\n",
       "Florida           2\n",
       "Kansas            2\n",
       "Michigan          1\n",
       "Michigan St       1\n",
       "Arkansas          1\n",
       "UNLV              1\n",
       "Indiana           1\n",
       "Maryland          1\n",
       "Arizona           1\n",
       "Virginia          1\n",
       "Syracuse          1\n",
       "UCLA              1\n",
       "Name: Winner, dtype: int64"
      ]
     },
     "execution_count": 7,
     "metadata": {},
     "output_type": "execute_result"
    }
   ],
   "source": [
    "q1=ncaa[ncaa['Region Name']=='Championship']\n",
    "#getting the championship round\n",
    "answer1=q1['Winner'].value_counts()\n",
    "#getting the winning team from jsut the championship round\n",
    "answer1"
   ]
  },
  {
   "cell_type": "markdown",
   "metadata": {},
   "source": [
    " Find the number of tournament appearances for each school, then make a table of all schools that have appeared at least 25 times, sorted from most to fewest appearances."
   ]
  },
  {
   "cell_type": "code",
   "execution_count": 8,
   "metadata": {},
   "outputs": [
    {
     "data": {
      "text/plain": [
       "Duke              34\n",
       "Kansas            34\n",
       "Arizona           32\n",
       "North Carolina    32\n",
       "Kentucky          30\n",
       "Michigan St       29\n",
       "Syracuse          28\n",
       "Purdue            26\n",
       "Louisville        26\n",
       "Texas             26\n",
       "Oklahoma          26\n",
       "UCLA              25\n",
       "Xavier            25\n",
       "Indiana           25\n",
       "dtype: int64"
      ]
     },
     "execution_count": 8,
     "metadata": {},
     "output_type": "execute_result"
    }
   ],
   "source": [
    "q2=ncaa.loc[ncaa['Round']==1, ['Team', 'Team.1']]\n",
    "#getting just round 1 so you don't double count and the two team columns\n",
    "teams=pd.concat([q2['Team'],q2['Team.1']])\n",
    "#merging the team columns\n",
    "q2a=teams.value_counts()\n",
    "#getting the value counts\n",
    "q2a[q2a >=25]"
   ]
  },
  {
   "cell_type": "markdown",
   "metadata": {},
   "source": [
    "Find all years when the school that won the tournament was seeded 3 or lower. \n",
    "(Remember that \"lower\" seed means a bigger number!) Give   a table that includes the year, the school name, and the seed, sorted by year from least to most recent."
   ]
  },
  {
   "cell_type": "code",
   "execution_count": 10,
   "metadata": {},
   "outputs": [
    {
     "data": {
      "text/plain": [
       "Year  Winner       Winner Seed\n",
       "1985  Villanova    8.0            1\n",
       "1988  Kansas       6.0            1\n",
       "1989  Michigan     3.0            1\n",
       "1997  Arizona      4.0            1\n",
       "2003  Syracuse     3.0            1\n",
       "2006  Florida      3.0            1\n",
       "2011  Connecticut  3.0            1\n",
       "2014  Connecticut  7.0            1\n",
       "Name: Year, dtype: int64"
      ]
     },
     "execution_count": 10,
     "metadata": {},
     "output_type": "execute_result"
    }
   ],
   "source": [
    "answer3=q1.loc[q1['Winner Seed'] >=3]\n",
    "#getting the winner seeds greater than 1\n",
    "q3=answer3['Year'].groupby([answer3['Year'],answer3['Winner'],answer3['Winner Seed']]).count()\n",
    "#geting the year, the winner, and the seed grouped by year\n",
    "q3"
   ]
  },
  {
   "cell_type": "markdown",
   "metadata": {},
   "source": [
    "Determine the average tournament seed for each school.  Make a table of all schools that have an average seed of 5.0 or higher (that is, the average seed number is <= 5.0).  Sort the table highest to lowest average seed. Just for round 1"
   ]
  },
  {
   "cell_type": "code",
   "execution_count": 11,
   "metadata": {},
   "outputs": [
    {
     "data": {
      "text/plain": [
       "Teams\n",
       "Washington St      5.000000\n",
       "Louisville         5.000000\n",
       "TCU                5.000000\n",
       "Miss. St           5.000000\n",
       "Drake              5.000000\n",
       "Florida            4.954545\n",
       "Maryland           4.952381\n",
       "Michigan St        4.827586\n",
       "Michigan           4.809524\n",
       "Virginia           4.722222\n",
       "Georgetown         4.666667\n",
       "Wake Forest        4.642857\n",
       "Ohio St            4.450000\n",
       "Arizona            4.437500\n",
       "Syracuse           4.428571\n",
       "Massachusetts      4.375000\n",
       "Loyola Illinois    4.000000\n",
       "Connecticut        3.950000\n",
       "Kentucky           3.566667\n",
       "North Carolina     2.718750\n",
       "Kansas             2.500000\n",
       "Duke               2.176471\n",
       "Name: Seeds, dtype: float64"
      ]
     },
     "execution_count": 11,
     "metadata": {},
     "output_type": "execute_result"
    }
   ],
   "source": [
    "q3=df2['Seeds'].groupby(df2['Teams']).mean().sort_values(ascending=True)\n",
    "#getting the teams seeds grouped by team, the average, getting them from lowest to highest\n",
    "q3[q3 <=5].sort_values(ascending=False)"
   ]
  },
  {
   "cell_type": "markdown",
   "metadata": {},
   "source": [
    "Give a table of the percentage of wins by the team seeded higher by round, sorted by round in order 1, 2, ..., 6. (Remember, a higher seed means a lower seed number.)"
   ]
  },
  {
   "cell_type": "code",
   "execution_count": 12,
   "metadata": {},
   "outputs": [
    {
     "data": {
      "text/plain": [
       "Round\n",
       "1    74.285714\n",
       "2    71.250000\n",
       "3    71.428571\n",
       "4    55.000000\n",
       "5    48.571429\n",
       "6    57.142857\n",
       "Name: Winner, dtype: float64"
      ]
     },
     "execution_count": 12,
     "metadata": {},
     "output_type": "execute_result"
    }
   ],
   "source": [
    "ncaa.loc[ncaa['Score Difference']>0, 'Loser Seed']=ncaa['Seed.1']\n",
    "ncaa.loc[ncaa['Score Difference']<0, 'Loser Seed']=ncaa['Seed']\n",
    "#filtering out the seeds of those who lost\n",
    "q5=ncaa.loc[ncaa['Winner Seed'] < ncaa['Loser Seed']]\n",
    "#getting the seeds of the winners who were seeded higher\n",
    "q5num=q5['Winner'].groupby(q5['Round']).count()\n",
    "#creating the numerator which is winner grouped by round for the winners seeded higher\n",
    "q5denom=ncaa['Winner'].groupby(ncaa['Round']).count()\n",
    "q5num/q5denom*100"
   ]
  },
  {
   "cell_type": "markdown",
   "metadata": {},
   "source": [
    "For the first round, determine the percentage of wins by the higher seed for the 1-vs-16 games, for the 2-vs-15 games, ..., for the 8-vs-9 games.  Give a table of the above groupings and the percentage, sorted in the order given.  (Yes, a higher seed still means a lower seed number.)"
   ]
  },
  {
   "cell_type": "code",
   "execution_count": 13,
   "metadata": {},
   "outputs": [
    {
     "data": {
      "text/plain": [
       "Seed\n",
       "1    99.285714\n",
       "2    94.285714\n",
       "3    85.000000\n",
       "4    79.285714\n",
       "5    64.285714\n",
       "6    62.857143\n",
       "7    60.714286\n",
       "8    48.571429\n",
       "Name: Higher Seed Wins, dtype: float64"
      ]
     },
     "execution_count": 13,
     "metadata": {},
     "output_type": "execute_result"
    }
   ],
   "source": [
    "q6=ncaa.loc[ncaa['Round']==1].copy()\n",
    "#getting just the round 1\n",
    "q6['Higher Seed Wins']=0\n",
    "#creating a blank column\n",
    "q6.loc[q6['Winner Seed'] <=8 , 'Higher Seed Wins']=1\n",
    "#saying if the winning seed is 8 or less, put a one in the empty column\n",
    "answer6=q6['Higher Seed Wins'].groupby([q6['Seed']]).sum()\n",
    "#summing the winning seeds by original seed\n",
    "denom6=np.sum(q6['Seed']==1)\n",
    "#getting the denominator\n",
    "answer6/denom6*100"
   ]
  },
  {
   "cell_type": "markdown",
   "metadata": {},
   "source": [
    "For each seed 1, 2, 3, ..., 16, determine the average number of games won per tournament by a team with that seed.  Give a table with seed number and average number of wins, sorted by seed number 1, 2, 3, ...(Hint: There are 35 tournaments in the data set, and each tournament starts with 4 teams of each seed.  We are not including \"play-in\" games which are not part of the data set.)"
   ]
  },
  {
   "cell_type": "code",
   "execution_count": 14,
   "metadata": {},
   "outputs": [
    {
     "data": {
      "text/plain": [
       "1.0     3.350000\n",
       "2.0     2.371429\n",
       "3.0     1.864286\n",
       "4.0     1.535714\n",
       "5.0     1.114286\n",
       "6.0     1.071429\n",
       "7.0     0.907143\n",
       "8.0     0.700000\n",
       "9.0     0.600000\n",
       "10.0    0.621429\n",
       "11.0    0.614286\n",
       "12.0    0.514286\n",
       "13.0    0.250000\n",
       "14.0    0.164286\n",
       "15.0    0.064286\n",
       "16.0    0.007143\n",
       "Name: Winner Seed, dtype: float64"
      ]
     },
     "execution_count": 14,
     "metadata": {},
     "output_type": "execute_result"
    }
   ],
   "source": [
    "q7=ncaa['Winner Seed'].value_counts().sort_index()\n",
    "#getting the winner seeds value counts sorted by index\n",
    "avgwins=q7/(35*4)\n",
    "#getting the table divided by the 35 tournaments with the 4 teams\n",
    "avgwins"
   ]
  },
  {
   "cell_type": "markdown",
   "metadata": {},
   "source": [
    "For each champion, determine their average margin of victory across all of their games. Make a table of teams with an average victory marginof at least 15.0.  Include the year, the school and the average victory margin, sorted from highest to lowest average victory margin."
   ]
  },
  {
   "cell_type": "code",
   "execution_count": 15,
   "metadata": {},
   "outputs": [
    {
     "data": {
      "text/plain": [
       "Win/Year\n",
       "Kentucky/1996          21.500000\n",
       "Villanova/2016         20.666667\n",
       "North Carolina/2009    20.166667\n",
       "UNLV/1990              18.666667\n",
       "Villanova/2018         17.666667\n",
       "Duke/2001              16.666667\n",
       "Louisville/2013        16.166667\n",
       "Florida/2006           16.000000\n",
       "North Carolina/1993    15.666667\n",
       "Duke/2015              15.500000\n",
       "Michigan St/2000       15.333333\n",
       "Name: Score Difference, dtype: float64"
      ]
     },
     "execution_count": 15,
     "metadata": {},
     "output_type": "execute_result"
    }
   ],
   "source": [
    "ncaa['Year']=ncaa['Year'].astype(str)\n",
    "#converting the year to string\n",
    "ncaa['Win/Year']=ncaa['Winner'].str.cat(ncaa['Year'], sep='/')\n",
    "#getting the winner for each year \n",
    "q8=ncaa.set_index('Win/Year')\n",
    "#getting the index set to winner per year\n",
    "champions=pd.DataFrame(q1['Winner'])\n",
    "#getting a new dataframe with winner in it\n",
    "champions['Year']=q1['Year'].astype(str)\n",
    "#getting the year changed to a string\n",
    "champions['Win/Year']=champions['Winner'].str.cat(champions['Year'],sep='/')\n",
    "#getting the winner for each year\n",
    "champions1=champions.set_index('Win/Year')\n",
    "#getting the index set to winner per year\n",
    "championsdata=champions1.merge(q8, left_index=True, right_index=True)\n",
    "#getting the two data sets merged together \n",
    "championsdata['Score Difference']=abs(championsdata['Score Difference'])\n",
    "#getting the absolute value of the score difference\n",
    "championsdata.reset_index(inplace=True)\n",
    "#resetting the index\n",
    "margins=championsdata['Score Difference'].groupby(championsdata['Win/Year']).mean()\n",
    "#getting the mean score difference grouped by winner each year\n",
    "margins[margins >=15].sort_values(ascending=False)"
   ]
  },
  {
   "cell_type": "markdown",
   "metadata": {},
   "source": [
    "For each year of the tournament, determine the average margin of victory for each round.  Then make a histogram of these averages,using 16 bins and a range of [0,32]."
   ]
  },
  {
   "cell_type": "code",
   "execution_count": 17,
   "metadata": {},
   "outputs": [
    {
     "data": {
      "image/png": "[encoded data removed]",
      "text/plain": [
       "<Figure size 432x288 with 1 Axes>"
      ]
     },
     "metadata": {
      "needs_background": "light"
     },
     "output_type": "display_data"
    }
   ],
   "source": [
    "ncaa['Score Diff Pos']=ncaa['Score Difference'].abs()\n",
    "#making all the scores positive\n",
    "q10=ncaa['Score Diff Pos'].groupby([ncaa['Year'], ncaa['Round']]).mean()\n",
    "##getting the scores grouped by year and round\n",
    "plt.hist(q10, bins=16, range=[0,32])   \n",
    "plt.title('Average Margin of Victory per Round')\n",
    "plt.xlabel(\"Average Margin of Victory\")\n",
    "plt.show()"
   ]
  },
  {
   "cell_type": "markdown",
   "metadata": {},
   "source": [
    "Produce side-by-side box-and-whisker plots, one using the Round 1 margin of victory for games where the higher seed wins, and one using the Round 1 margin of victory for games where the lower seed wins.  (Remember that higher seed = lower seed number.) Orient the boxes vertically with the higher seed win data on the left."
   ]
  },
  {
   "cell_type": "code",
   "execution_count": 18,
   "metadata": {},
   "outputs": [
    {
     "data": {
      "image/png": "[encoded data removed]",
      "text/plain": [
       "<Figure size 432x288 with 1 Axes>"
      ]
     },
     "metadata": {
      "needs_background": "light"
     },
     "output_type": "display_data"
    }
   ],
   "source": [
    "q11=ncaa.loc[ncaa['Round']==1]\n",
    "#getting just the first round\n",
    "q11a=q11.loc[q11['Winner Seed']< q11['Loser Seed']]\n",
    "#getting the higher seed\n",
    "q11aa=q11a['Score Difference']\n",
    "#getting the score difference\n",
    "q11b=q11.loc[q11['Winner Seed']> q11['Loser Seed']]\n",
    "#getting the winner seed greater than the loser seed\n",
    "q11bb=q11b['Score Difference']\n",
    "subset=[q11aa, q11bb]\n",
    "plt.boxplot(subset, sym='b^')\n",
    "plt.xticks([1,2], ['Higher Seed Margin', 'Lower Seed Margin'])\n",
    "plt.xlabel(\"Higher or lower seed margin of score\")\n",
    "plt.ylabel(\"Margin of Score\")\n",
    "plt.title('Margin of victory for lower vs higher seed victories')\n",
    "plt.show()"
   ]
  },
  {
   "cell_type": "markdown",
   "metadata": {},
   "source": [
    "Produce a bar chart for the number of Round 2 victories by seed. The bars should proceed left to right by seed number 1, 2, 3, ..."
   ]
  },
  {
   "cell_type": "code",
   "execution_count": 19,
   "metadata": {},
   "outputs": [
    {
     "data": {
      "image/png": "[encoded data removed]",
      "text/plain": [
       "<Figure size 432x288 with 1 Axes>"
      ]
     },
     "metadata": {
      "needs_background": "light"
     },
     "output_type": "display_data"
    }
   ],
   "source": [
    "q12=ncaa.loc[ncaa['Round']==2]\n",
    "#getting the second round \n",
    "q12a=q12['Winner Seed'].value_counts()\n",
    "#getting the higher seed value counts \n",
    "counts=q12a.index\n",
    "plt.bar(counts, q12a, color='blue', edgecolor='black')\n",
    "plt.xlabel(\"Seed\")\n",
    "plt.ylabel(\"Second Round Victories\")\n",
    "plt.title('Round 2 Victories by Seed')\n",
    "plt.show()"
   ]
  },
  {
   "cell_type": "code",
   "execution_count": null,
   "metadata": {},
   "outputs": [],
   "source": []
  }
 ],
 "metadata": {
  "kernelspec": {
   "display_name": "Python 3",
   "language": "python",
   "name": "python3"
  },
  "language_info": {
   "codemirror_mode": {
    "name": "ipython",
    "version": 3
   },
   "file_extension": ".py",
   "mimetype": "text/x-python",
   "name": "python",
   "nbconvert_exporter": "python",
   "pygments_lexer": "ipython3",
   "version": "3.8.5"
  }
 },
 "nbformat": 4,
 "nbformat_minor": 4
}
